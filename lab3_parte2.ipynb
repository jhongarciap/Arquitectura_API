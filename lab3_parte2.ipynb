{
  "cells": [
    {
      "cell_type": "markdown",
      "metadata": {
        "id": "p-8jBq_KR0L1"
      },
      "source": [
        "# Laboratorio 3 - Parte 2. Comparación de metodos basados en árboles"
      ]
    },
    {
      "cell_type": "code",
      "execution_count": 1,
      "metadata": {
        "colab": {
          "base_uri": "https://localhost:8080/",
          "height": 93
        },
        "id": "3YpJY7zPmd8M",
        "outputId": "a1c44a08-fb73-4b3e-a059-a755ead5ab23"
      },
      "outputs": [
        {
          "output_type": "display_data",
          "data": {
            "text/plain": [
              "<IPython.core.display.HTML object>"
            ],
            "text/html": [
              "\n",
              "<meta name=\"google-signin-client_id\"\n",
              "      content=\"461673936472-kdjosv61up3ac1ajeuq6qqu72upilmls.apps.googleusercontent.com\"/>\n",
              "<script src=\"https://apis.google.com/js/client:platform.js?onload=google_button_start\"></script>\n",
              "    "
            ]
          },
          "metadata": {}
        },
        {
          "output_type": "stream",
          "name": "stdout",
          "text": [
            "replicating local resources\n",
            "replicating Labs resources\n"
          ]
        },
        {
          "output_type": "execute_result",
          "data": {
            "text/plain": [
              "<IPython.core.display.HTML object>"
            ],
            "text/html": [
              "<h3>See <a href='https://m5knaekxo6.execute-api.us-west-2.amazonaws.com/dev-v0001/rlxmooc/web/login' target='_blank'>my courses and progress</a></h2>"
            ]
          },
          "metadata": {},
          "execution_count": 1
        }
      ],
      "source": [
        "!wget -nc --no-cache -O init.py -q https://raw.githubusercontent.com/jdariasl/Intro_ML_2025/master/init.py\n",
        "import init; init.init(force_download=False); init.get_weblink()"
      ]
    },
    {
      "cell_type": "code",
      "execution_count": 2,
      "metadata": {
        "id": "3RXrxojwmeoy",
        "colab": {
          "base_uri": "https://localhost:8080/",
          "height": 217,
          "referenced_widgets": [
            "2f279ea12f704407a69eb083d738972e",
            "80f84b53acb34da090ad5db7b3259ff7",
            "2d9df34b1c53429d886e38531a5aa3cf",
            "8de7830014564eba90a6dcea6616b6ff",
            "fdd9ced45b184fbeae65994a712dc137",
            "742cb88dfeb24a62b8ed01e18288223a",
            "371ffb1e186d408bb6351dbb313ed27d",
            "2dc9d2cb22394109a71c34c8a9db2236",
            "aabf63e4c7904e84bad249dfbe12dcfd",
            "709af831e144454f919707ebbf72c4bd",
            "af0d10b69a584ec2a9861f8745c5bdf0",
            "dd67e536a5414e7baae31e158aa46b65",
            "87c5e8adb4b94f838ea95361b2ee2281",
            "20ba5b011e8044afa6d3c7a46cfa0e96",
            "4f3ff1759ebf44db832aa4e9ea5132ff",
            "7648d0b06166484da815e69a2129f134",
            "951715a6feaf4573a4a7dc9e0c8e841c",
            "cf61b10096d2467ca2f905fee49f8394",
            "9322a0095d0e4b52a5207237b6d25131"
          ]
        },
        "outputId": "d4b52611-85c8-46cf-fe5f-504813542118"
      },
      "outputs": [
        {
          "output_type": "stream",
          "name": "stdout",
          "text": [
            "logging in as jhon.garciap@udea.edu.co... please wait\n",
            "\n",
            "-------------\n",
            "using course session introml::udea.pre.20252\n",
            "success!! you are logged in\n",
            "-------------\n"
          ]
        }
      ],
      "source": [
        "from local.lib.rlxmoocapi import submit, session\n",
        "import inspect\n",
        "session.LoginSequence(endpoint=init.endpoint, course_id=init.course_id, lab_id=\"L03.02\", varname=\"student\");"
      ]
    },
    {
      "cell_type": "code",
      "execution_count": 5,
      "metadata": {
        "id": "-x8cOa8TR0Lz"
      },
      "outputs": [],
      "source": [
        "#configuración del laboratorio\n",
        "# Ejecuta esta celda!\n",
        "from Labs.commons.utils.lab3 import *\n",
        "_ = part_2()"
      ]
    },
    {
      "cell_type": "markdown",
      "metadata": {
        "id": "RkbHQloLR0L2"
      },
      "source": [
        "A continuación se leen los datos de un problema de clasificación. El problema corresponde a la clasifiación de dígitos escritos a mano, el cual fue abordado en el laboratorio anterior. Usaremos únicamente 4 de las 10 clases disponibles, usando solo los números pares. Nuevamente, los datos fueron preprocesados con PCA para reducir el número de características."
      ]
    },
    {
      "cell_type": "code",
      "execution_count": 6,
      "metadata": {
        "id": "Hwo-dBVfR0L2"
      },
      "outputs": [],
      "source": [
        "digits = load_digits(n_class=10)\n",
        "#--------- preprocesamiento usando solo los pares--------------------\n",
        "pca = PCA(0.99, whiten=True)\n",
        "data = pca.fit_transform(digits.data[np.isin(digits.target, [2,4,6,8,10])])\n",
        "#---------- Datos a usar ----------------------\n",
        "x = data\n",
        "y =  digits.target[np.isin(digits.target, [2,4,6,8,10])]"
      ]
    },
    {
      "cell_type": "markdown",
      "metadata": {
        "id": "tGgD-28CR0L4"
      },
      "source": [
        "## Ejercicio 1 Experimentos con Arboles de decisión"
      ]
    },
    {
      "cell_type": "markdown",
      "metadata": {
        "id": "YXpaZfqCR0L4"
      },
      "source": [
        "Debe consultar todo lo relacionado con la creación, entrenamiento y uso en predicción del modelo conocido como árbol de decisión usando la librería scikit-learn. En este enlace, se puede leer la documentación http://scikit-learn.org/stable/modules/generated/sklearn.tree.DecisionTreeClassifier.html.\n",
        "\n",
        "En el notebook, ya se encuentra cargada la libreria:\n",
        "\n",
        "```python\n",
        "from sklearn.tree import DecisionTreeClassifier\n",
        "```\n",
        "\n",
        "Las siguientes preguntas abiertas, buscan verificar que se está haciendo un contraste con la librería y la teoría, por lo tanto procura incluir conceptos asociados y **NO** solo enfocarse en las descripciones de la documentación."
      ]
    },
    {
      "cell_type": "code",
      "execution_count": null,
      "metadata": {
        "cellView": "form",
        "id": "6HczNlx5R0L5"
      },
      "outputs": [],
      "source": [
        "#@title Pregunta Abierta\n",
        "#@markdown  ¿Qué efecto tienen los parámetros min_samples_split y max_depth definidos en la librería?\n",
        "respuesta = \"\" #@param {type:\"string\"}"
      ]
    },
    {
      "cell_type": "code",
      "execution_count": null,
      "metadata": {
        "cellView": "form",
        "id": "_TuOF2vXR0L6"
      },
      "outputs": [],
      "source": [
        "#@title Pregunta Abierta\n",
        "#@markdown ¿Cuál es la diferencia entre min_samples_leaf y min_samples_split? Y explique la diferencia fundamental de estos dos con respecto a min_impurity_decrease.\n",
        "respuesta = \"\" #@param {type:\"string\"}"
      ]
    },
    {
      "cell_type": "markdown",
      "metadata": {
        "id": "KIw79WykR0L8"
      },
      "source": [
        "En la siguiente celda se define una simulación para entrenar y validar un modelo usando los datos previamente cargados. Complete el código para usar como modelo de predicción un arbol de decisión.\n",
        "\n",
        "\n",
        "<b>Note</b> que existe una clase para modelos de clasificación y otra para modelos de regresión:\n",
        "http://scikit-learn.org/stable/modules/generated/sklearn.tree.DecisionTreeRegressor.html\n",
        "\n",
        "Vamos a tener en cuenta lo siguiente:\n",
        "1. dentro del código, ya se encuentra sugerida la metodologia de validación\n",
        "2. la función va aceptar un parametro booleano, dependiendo del valor de esta parametro, se ejecutara normalización de los datos.\n",
        "3. **hacer uso explicito del nombre del parametro que se va usar**, por ejemplo, si se requeire asignar el parametro `max_features`  debemos llamar la libreria de esta manera: `DecisionTreeClassifier(max_features = 'auto')`\n",
        "4. Vamos a configurar el arbol con la medida de impureza Gini"
      ]
    },
    {
      "cell_type": "code",
      "execution_count": 7,
      "metadata": {
        "id": "3lD0jyrER0L8"
      },
      "outputs": [],
      "source": [
        "from sklearn.tree import DecisionTreeClassifier\n",
        "from sklearn.model_selection import StratifiedKFold\n",
        "from sklearn.preprocessing import StandardScaler\n",
        "import numpy as np\n",
        "import pandas as pd\n",
        "\n",
        "def experimentar_dt(X, Y, depths, normalize):\n",
        "    \"\"\"\n",
        "    Función que realiza experimentos con árboles de decisión.\n",
        "    X: matriz con las características\n",
        "    Y: matriz con las etiquetas\n",
        "    depths: lista con profundidades de árbol a experimentar\n",
        "    normalize: bool, indica si se aplica normalización a los datos\n",
        "    Retorna: DataFrame con resultados de eficiencia y desviación estándar\n",
        "    \"\"\"\n",
        "    folds = 4\n",
        "    skf = StratifiedKFold(n_splits=folds)\n",
        "    resultados = pd.DataFrame()\n",
        "    idx = 0\n",
        "\n",
        "    for depth in depths:\n",
        "        EficienciaTrain = []\n",
        "        EficienciaVal = []\n",
        "\n",
        "        for train, test in skf.split(X, Y):\n",
        "            Xtrain = X[train, :]\n",
        "            Ytrain = Y[train]\n",
        "            Xtest = X[test, :]\n",
        "            Ytest = Y[test]\n",
        "\n",
        "            # Normalización si se requiere\n",
        "            if normalize:\n",
        "                scaler = StandardScaler()\n",
        "                scaler.fit(Xtrain)\n",
        "                Xtrain = scaler.transform(Xtrain)\n",
        "                Xtest = scaler.transform(Xtest)\n",
        "\n",
        "            # 🌳 Crear y entrenar el modelo (usando Gini y semilla fija)\n",
        "            modelo = DecisionTreeClassifier(criterion='gini', max_depth=depth, random_state=0)\n",
        "            modelo.fit(Xtrain, Ytrain)\n",
        "\n",
        "            # 🔮 Predicciones\n",
        "            Ytrain_pred = modelo.predict(Xtrain)\n",
        "            Yest = modelo.predict(Xtest)\n",
        "\n",
        "            # 🧾 Eficiencia (accuracy)\n",
        "            EficienciaTrain.append(np.mean(Ytrain_pred.ravel() == Ytrain.ravel()))\n",
        "            EficienciaVal.append(np.mean(Yest.ravel() == Ytest.ravel()))\n",
        "\n",
        "        # 📊 Guardar resultados\n",
        "        resultados.loc[idx, 'profundidad del árbol'] = depth\n",
        "        resultados.loc[idx, 'eficiencia de entrenamiento'] = np.mean(EficienciaTrain)\n",
        "        resultados.loc[idx, 'desviación estándar entrenamiento'] = np.std(EficienciaTrain)\n",
        "        resultados.loc[idx, 'eficiencia de prueba'] = np.mean(EficienciaVal)\n",
        "        resultados.loc[idx, 'desviación estándar prueba'] = np.std(EficienciaVal)\n",
        "        idx += 1\n",
        "\n",
        "    return resultados\n"
      ]
    },
    {
      "cell_type": "markdown",
      "metadata": {
        "id": "pPw4Pom2c9pv"
      },
      "source": [
        "**Registra tu solución en línea**"
      ]
    },
    {
      "cell_type": "code",
      "execution_count": 8,
      "metadata": {
        "colab": {
          "base_uri": "https://localhost:8080/",
          "height": 111
        },
        "id": "6YbyjvOtc916",
        "outputId": "2a8c2080-0378-4e4c-ec4b-ffe90431bd85"
      },
      "outputs": [
        {
          "output_type": "display_data",
          "data": {
            "text/plain": [
              "<IPython.core.display.HTML object>"
            ],
            "text/html": [
              "\n",
              "                    <b>T1 submitted.</b> <b><font color=\"blue\">your grade is 5</font></b> \n",
              "                    <p/><pre>----- grader message -------</pre><b>correct</b><pre>----------------------------</pre>\n",
              "                    <p/><p/>\n",
              "                    <div style=\"font-size:10px\"><b>SUBMISSION CODE</b> 1V9S2CS5vWzlrzO74KHQSJa1BNXk+Nt/+1ffBozesoWkHxudXctMdmMipdCSPhh9birsNF5ySyZzbXNR8rnEWFj/kY8Pr1EIvWNDLE3jDCLaYNvjYNcOTtwMEdwuyDsc2QR5IFLNlgExALNAiQEupQ==</div>\n",
              "                    "
            ]
          },
          "metadata": {}
        }
      ],
      "source": [
        "student.submit_task(namespace=globals(), task_id='T1');"
      ]
    },
    {
      "cell_type": "code",
      "execution_count": null,
      "metadata": {
        "id": "Jf0Fe0uPR0MA"
      },
      "outputs": [],
      "source": [
        "# Realiza los experimentos sin normalizacion\n",
        "depths = [5,10,20,30,50]\n",
        "resultados_dt_no_norm = experimentar_dt(X = x , Y = y, depths = , normalize=)\n",
        "resultados_dt_no_norm"
      ]
    },
    {
      "cell_type": "code",
      "execution_count": null,
      "metadata": {
        "id": "dlOlgAv6R0MC"
      },
      "outputs": [],
      "source": [
        "# Realiza los experimentos con normalizacion\n",
        "depths = [5,10,20,30,50]\n",
        "resultados_dt_norm = experimentar_dt(X = x , Y = y, depths = , normalize=)\n",
        "resultados_dt_norm"
      ]
    },
    {
      "cell_type": "code",
      "execution_count": null,
      "metadata": {
        "id": "KUyxDrwVR0ME"
      },
      "outputs": [],
      "source": [
        "#@title Pregunta Abierta\n",
        "#@markdown  ¿Tiene algún efecto la normalización o estándarización de las variables en el desempeño del modelo de árboles de decisión? Justifique.\n",
        "respuesta = \"\" #@param {type:\"string\"}"
      ]
    },
    {
      "cell_type": "markdown",
      "metadata": {
        "id": "q3sPp3OoR0MF"
      },
      "source": [
        "## Ejercicio 2 Experimentos con Random Forest\n",
        "\n",
        "En la siguiente celda se define una simulación para entrenar y validar un modelo usando los datos previamente cargados. Complete el código para usar como modelo de predicción un Random Forest. Debe consultar todo lo relacionado con la creación, entrenamiento y uso en predicción de este modelo usando la librería scikit-learn. Consultar aquí: http://scikit-learn.org/stable/modules/generated/sklearn.ensemble.RandomForestClassifier.html.\n",
        "\n",
        "En el notebook, ya se encuentra cargada la clase:\n",
        "\n",
        "```python\n",
        "from sklearn.ensemble import RandomForestClassifier\n",
        "\n",
        "```\n",
        "\n",
        "<b>Note</b> que al igual que en el caso anterior, existe una clase para modelos de clasificación y otra para modelos de regresión: http://scikit-learn.org/stable/modules/generated/sklearn.ensemble.RandomForestRegressor.html\n",
        "\n",
        "**Recorde que para instancias un objeto de la clase no se usan parámetros posicionales; todo los parámetros deben ser llamados por su nombre.\n",
        "\n",
        "Para nuestros experimentos vamos a configurar el RF para que el mínimo de muestras a considerar en un nodo hoja sea 3."
      ]
    },
    {
      "cell_type": "code",
      "execution_count": 9,
      "metadata": {
        "id": "TMfYwB1VR0MH"
      },
      "outputs": [],
      "source": [
        "from sklearn.ensemble import RandomForestClassifier\n",
        "from sklearn.model_selection import StratifiedKFold\n",
        "import numpy as np\n",
        "import pandas as pd\n",
        "\n",
        "def experimentar_rf(X, Y, num_trees, numero_de_variables):\n",
        "    \"\"\"\n",
        "    Función que realiza experimentos con el modelo Random Forest.\n",
        "    X: matriz con las características\n",
        "    Y: etiquetas\n",
        "    num_trees: lista con número de árboles\n",
        "    numero_de_variables: lista con el número de variables usadas para seleccionar el mejor umbral\n",
        "    Retorna: DataFrame con resultados de eficiencia y desviación estándar\n",
        "    \"\"\"\n",
        "    folds = 4\n",
        "    skf = StratifiedKFold(n_splits=folds)\n",
        "    resultados = pd.DataFrame()\n",
        "    idx = 0\n",
        "\n",
        "    for trees in num_trees:\n",
        "        for num_variables in numero_de_variables:\n",
        "            EficienciaTrain = []\n",
        "            EficienciaVal = []\n",
        "\n",
        "            for train, test in skf.split(X, Y):\n",
        "                Xtrain = X[train, :]\n",
        "                Ytrain = Y[train]\n",
        "                Xtest = X[test, :]\n",
        "                Ytest = Y[test]\n",
        "\n",
        "                # 🌲 Crear y entrenar el modelo Random Forest\n",
        "                modelo = RandomForestClassifier(\n",
        "                    n_estimators=trees,\n",
        "                    max_features=num_variables,\n",
        "                    min_samples_leaf=3,\n",
        "                    criterion='gini',\n",
        "                    random_state=0\n",
        "                )\n",
        "\n",
        "                modelo.fit(Xtrain, Ytrain)\n",
        "\n",
        "                # 🔮 Predicciones\n",
        "                Ytrain_pred = modelo.predict(Xtrain)\n",
        "                Yest = modelo.predict(Xtest)\n",
        "\n",
        "                # 🧾 Eficiencias\n",
        "                EficienciaTrain.append(np.mean(Ytrain_pred.ravel() == Ytrain.ravel()))\n",
        "                EficienciaVal.append(np.mean(Yest.ravel() == Ytest.ravel()))\n",
        "\n",
        "            # 📊 Guardar resultados en el DataFrame\n",
        "            resultados.loc[idx, 'número de árboles'] = trees\n",
        "            resultados.loc[idx, 'variables para la selección del mejor umbral'] = num_variables\n",
        "            resultados.loc[idx, 'eficiencia de entrenamiento'] = np.mean(EficienciaTrain)\n",
        "            resultados.loc[idx, 'desviación estándar entrenamiento'] = np.std(EficienciaTrain)\n",
        "            resultados.loc[idx, 'eficiencia de prueba'] = np.mean(EficienciaVal)\n",
        "            resultados.loc[idx, 'desviación estándar prueba'] = np.std(EficienciaVal)\n",
        "            idx += 1\n",
        "\n",
        "        print(f\"Termina para {trees} árboles\")\n",
        "\n",
        "    return resultados\n"
      ]
    },
    {
      "cell_type": "markdown",
      "metadata": {
        "id": "qcgHSosUmanP"
      },
      "source": [
        "**Registra tu solución en línea**"
      ]
    },
    {
      "cell_type": "code",
      "execution_count": 10,
      "metadata": {
        "id": "q9L8ArCAma2s",
        "colab": {
          "base_uri": "https://localhost:8080/",
          "height": 111
        },
        "outputId": "f684db06-08e6-4d89-b0be-3e1e3211c402"
      },
      "outputs": [
        {
          "output_type": "display_data",
          "data": {
            "text/plain": [
              "<IPython.core.display.HTML object>"
            ],
            "text/html": [
              "\n",
              "                    <b>T2 submitted.</b> <b><font color=\"blue\">your grade is 5</font></b> \n",
              "                    <p/><pre>----- grader message -------</pre><b>correct</b><pre>----------------------------</pre>\n",
              "                    <p/><p/>\n",
              "                    <div style=\"font-size:10px\"><b>SUBMISSION CODE</b> 8m7qskGab727jneGtNeJ2k+nI0qT5yti3sCFWgM8LuO3KTgyZ4i2Q6EhJWxlc8EvpDkY8GHLFdU0PDQiKuOm50b2JDz956vtfYLmrPcqbpDF5fLKGGqkzi1kumahWPXGaAaCuajqQaBqvFsU2Saocw==</div>\n",
              "                    "
            ]
          },
          "metadata": {}
        }
      ],
      "source": [
        "student.submit_task(namespace=globals(), task_id='T2');"
      ]
    },
    {
      "cell_type": "markdown",
      "metadata": {
        "id": "MS5xALz3R0ML"
      },
      "source": [
        "Una vez completado el código realice los experimentos necesarios para llenar la siguiente tabla:"
      ]
    },
    {
      "cell_type": "code",
      "execution_count": null,
      "metadata": {
        "id": "blO2GTUtR0ML"
      },
      "outputs": [],
      "source": [
        "arboles = [5,10,20,50,100, 150]\n",
        "variables_seleccion = [5,20,40]\n",
        "resultados_rf = experimentar_rf(X=x, Y=y, num_trees =  ,numero_de_variables = )\n",
        "resultados_rf"
      ]
    },
    {
      "cell_type": "markdown",
      "metadata": {
        "id": "hEACC0WkR0MO"
      },
      "source": [
        "Vamos a comparar los resultados del RF con los del DT."
      ]
    },
    {
      "cell_type": "code",
      "execution_count": null,
      "metadata": {
        "id": "8-UCgRrVR0MP"
      },
      "outputs": [],
      "source": [
        "print(\"diferencia promedio entre entrenamiento y prueba del DT\",\n",
        "      resultados_dt_norm['eficiencia de entrenamiento'].mean()-resultados_dt_norm['eficiencia de prueba'].mean())\n",
        "\n",
        "print(\"diferencia promedio entre entrenamiento y prueba del RF\",\n",
        "      resultados_rf['eficiencia de entrenamiento'].mean()-resultados_rf['eficiencia de prueba'].mean())"
      ]
    },
    {
      "cell_type": "markdown",
      "metadata": {
        "id": "yBfC_8rDR0MS"
      },
      "source": [
        "## Ejercicio 3 Experimentos con Gradient Boosted Trees\n",
        "\n",
        "En la siguiente celda se define una simulación para entrenar y validar un modelo usando los datos previamente cargados. Complete el código para usar como modelo de predicción un Gradient boosted Tree. Debe consultar todo lo relacionado con la creación, el entrenamiento y el uso en predicción de este modelo usando la librería scikit-learn. Consultar aquí: https://scikit-learn.org/stable/modules/generated/sklearn.ensemble.GradientBoostingClassifier.html\n",
        "\n",
        "En el notebook, ya se encuentra cargada la libreria:\n",
        "\n",
        "```python\n",
        "from sklearn.ensemble import GradientBoostingClassifier\n",
        "\n",
        "```\n",
        "\n",
        "Debemos configurar los árboles con un mínimo de tres (3) muestras para considerar la división de un nodo.\n",
        "\n",
        "<b>Note</b> que al igual que en el caso anterior, existe una clase para modelos de clasificación y otra para modelos de regresión: https://scikit-learn.org/stable/modules/generated/sklearn.ensemble.GradientBoostingRegressor.html#sklearn.ensemble.GradientBoostingRegressor"
      ]
    },
    {
      "cell_type": "code",
      "execution_count": 11,
      "metadata": {
        "id": "GfaU0uZPR0MS"
      },
      "outputs": [],
      "source": [
        "from sklearn.ensemble import GradientBoostingClassifier\n",
        "from sklearn.model_selection import StratifiedKFold\n",
        "import numpy as np\n",
        "import pandas as pd\n",
        "\n",
        "def experimentar_gbt(num_trees, X, Y):\n",
        "    folds = 4\n",
        "    skf = StratifiedKFold(n_splits=folds)\n",
        "    resultados = pd.DataFrame()\n",
        "    idx = 0\n",
        "    for trees in num_trees:\n",
        "        EficienciaTrain = []\n",
        "        EficienciaVal = []\n",
        "        for train, test in skf.split(X, Y):\n",
        "            Xtrain = X[train,:]\n",
        "            Ytrain = Y[train]\n",
        "            Xtest = X[test,:]\n",
        "            Ytest = Y[test]\n",
        "\n",
        "            modelo = GradientBoostingClassifier(\n",
        "                n_estimators=trees,\n",
        "                min_samples_split=3,\n",
        "                random_state=0\n",
        "            )\n",
        "            modelo.fit(Xtrain, Ytrain)\n",
        "\n",
        "            Ytrain_pred = modelo.predict(Xtrain)\n",
        "            Yest = modelo.predict(Xtest)\n",
        "\n",
        "            EficienciaTrain.append(np.mean(Ytrain_pred.ravel() == Ytrain.ravel()))\n",
        "            EficienciaVal.append(np.mean(Yest.ravel() == Ytest.ravel()))\n",
        "\n",
        "        resultados.loc[idx,'número de arboles'] = trees\n",
        "        resultados.loc[idx,'eficiencia de entrenamiento'] = np.mean(EficienciaTrain)\n",
        "        resultados.loc[idx,'desviacion estandar entrenamiento'] = np.std(EficienciaTrain)\n",
        "        resultados.loc[idx,'eficiencia de prueba'] = np.mean(EficienciaVal)\n",
        "        resultados.loc[idx,'desviacion estandar prueba'] = np.std(EficienciaVal)\n",
        "        idx += 1\n",
        "\n",
        "    return resultados\n"
      ]
    },
    {
      "cell_type": "markdown",
      "metadata": {
        "id": "-Ga6KsLN5Fjb"
      },
      "source": [
        "**Registra tu solución en línea**"
      ]
    },
    {
      "cell_type": "code",
      "execution_count": 12,
      "metadata": {
        "colab": {
          "base_uri": "https://localhost:8080/",
          "height": 111
        },
        "id": "7Qh8S6KX5Fv1",
        "outputId": "fae46b26-44e9-4129-9fa4-bfc1c5873c0b"
      },
      "outputs": [
        {
          "output_type": "display_data",
          "data": {
            "text/plain": [
              "<IPython.core.display.HTML object>"
            ],
            "text/html": [
              "\n",
              "                    <b>T3 submitted.</b> <b><font color=\"blue\">your grade is 5</font></b> \n",
              "                    <p/><pre>----- grader message -------</pre><b>correct</b><pre>----------------------------</pre>\n",
              "                    <p/><p/>\n",
              "                    <div style=\"font-size:10px\"><b>SUBMISSION CODE</b> 5DKpzVocHPL0erm5uK/q2svV4JMirHcfmSYSlcW3LAXBsxxdsDUy//PgZ6LCHyVcLychA33wv3aeOpYZfDJnY0k9fy03eqvyKQ8nYTxBJtfYkj7+oI8KAgm1rNo/WqNnj6CiiVaVq3ScVuWouV6Ymw==</div>\n",
              "                    "
            ]
          },
          "metadata": {}
        }
      ],
      "source": [
        "student.submit_task(namespace=globals(), task_id='T3');"
      ]
    },
    {
      "cell_type": "code",
      "execution_count": null,
      "metadata": {
        "id": "H6vIMbJ7R0MW"
      },
      "outputs": [],
      "source": [
        "# ejecuta para realizar los experimentos\n",
        "arboles = [5,10,20,50,100, 150]\n",
        "resultados_gbt = experimentar_gbt(arboles, x, y)\n",
        "resultados_gbt"
      ]
    },
    {
      "cell_type": "markdown",
      "metadata": {
        "id": "2E4iUcGwR0MX"
      },
      "source": [
        "Vamos a graficar la eficiencia para el RF y el GBT en función del número de arboles."
      ]
    },
    {
      "cell_type": "code",
      "execution_count": null,
      "metadata": {
        "id": "jcYqRudTR0MX"
      },
      "outputs": [],
      "source": [
        "# se crea un df para agrupar los resultados\n",
        "# y graficar las diferencias entre el GBT y el RF\n",
        "import seaborn as sns\n",
        "rf_res = resultados_rf.groupby(\"número de arboles\")['eficiencia de prueba'].mean().reset_index()\n",
        "rf_res['Tipo'] = 'RF'\n",
        "gbt_res = resultados_gbt.groupby(\"número de arboles\")['eficiencia de prueba'].mean().reset_index()\n",
        "gbt_res['Tipo'] = 'GBT'\n",
        "data_to_plot= pd.concat([rf_res, gbt_res], ignore_index=True)\n",
        "sns.relplot(data=data_to_plot, x= 'número de arboles', y = 'eficiencia de prueba', hue = 'Tipo', kind='line', aspect=1.5,height=3)\n",
        "plt.show()"
      ]
    },
    {
      "cell_type": "markdown",
      "metadata": {
        "id": "yMPFC4H_R0Ma"
      },
      "source": [
        "## Ejercicio 4 Tiempo de entrenamiento del RF y GBT\n",
        "\n",
        "En nuestro último experimento, vamos a evaluar la influencia de los parámetros del RF y del GBT en el tiempo de entrenamiento.\n",
        "\n",
        "Para ello vamos a crear una función para medir el tiempo de entrenamiento usando la instrucción `time.process_time()`.\n",
        "\n",
        "Vamos crear la función, para poder evaluar la influencia de:\n",
        "1. número de árboles\n",
        "2. cantidad de variables a analizar por nodo\n",
        "\n",
        "En el entrenamiento del RF y del GBT.\n",
        "\n",
        "**Notar**  \n",
        "1. No vamos a dividir el conjunto de muestras ya que el objetivo es evaluar el tiempo de entrenamiento y no la eficiencias del modelo\n",
        "2. No calcularemos las prediciones"
      ]
    },
    {
      "cell_type": "code",
      "execution_count": 13,
      "metadata": {
        "id": "tOdu_n0wR0Ma"
      },
      "outputs": [],
      "source": [
        "from sklearn.ensemble import RandomForestClassifier, GradientBoostingClassifier\n",
        "import pandas as pd\n",
        "import time\n",
        "import numpy as np\n",
        "\n",
        "def time_rf_gbt_training(X, Y, num_trees, numero_de_variables, metodo):\n",
        "    resultados = pd.DataFrame()\n",
        "    idx = 0\n",
        "\n",
        "    for trees in num_trees:\n",
        "        for variables in numero_de_variables:\n",
        "            tiempos = []\n",
        "            for i in range(5):\n",
        "                start = time.process_time()\n",
        "\n",
        "                if metodo == 'rf':\n",
        "                    modelo = RandomForestClassifier(\n",
        "                        n_estimators=trees,\n",
        "                        max_features=variables,\n",
        "                        min_samples_leaf=3,\n",
        "                        random_state=0\n",
        "                    )\n",
        "                else:\n",
        "                    modelo = GradientBoostingClassifier(\n",
        "                        n_estimators=trees,\n",
        "                        min_samples_split=3,\n",
        "                        random_state=0\n",
        "                    )\n",
        "\n",
        "                modelo.fit(X, Y)\n",
        "\n",
        "                end = time.process_time()\n",
        "                tiempos.append(end - start)\n",
        "\n",
        "            resultados.loc[idx, 'numero de arboles'] = trees\n",
        "            resultados.loc[idx, 'variables para la seleccion del mejor umbral'] = variables\n",
        "            resultados.loc[idx, 'tiempo de entrenamiento'] = np.mean(tiempos)\n",
        "            resultados.loc[idx, 'metodo'] = metodo\n",
        "            idx += 1\n",
        "\n",
        "    return resultados\n"
      ]
    },
    {
      "cell_type": "markdown",
      "metadata": {
        "id": "PQeAcI1xEnNI"
      },
      "source": [
        "**Registra tu solución en línea**"
      ]
    },
    {
      "cell_type": "code",
      "execution_count": 14,
      "metadata": {
        "id": "-42L_tFxEnXA",
        "colab": {
          "base_uri": "https://localhost:8080/",
          "height": 111
        },
        "outputId": "b6a4ac3b-c2c6-491b-ed1e-4d1342b66bbd"
      },
      "outputs": [
        {
          "output_type": "display_data",
          "data": {
            "text/plain": [
              "<IPython.core.display.HTML object>"
            ],
            "text/html": [
              "\n",
              "                    <b>T4 submitted.</b> <b><font color=\"blue\">your grade is 5</font></b> \n",
              "                    <p/><pre>----- grader message -------</pre><b>correct</b><pre>----------------------------</pre>\n",
              "                    <p/><p/>\n",
              "                    <div style=\"font-size:10px\"><b>SUBMISSION CODE</b> RafjlWk4CbhYFeO1XyXGw9/bnel9VMw2n+NqDNHUAukohaNvb6RwcnrwggEv2DxS2Q2mlNpMdk+GNi5Tgau/gYcnAa0i1zw5gwotCvFSc/TyQPcM7d/MudXFvmDBXMXxZK057IqzdBnJ7zFPtPzRmA==</div>\n",
              "                    "
            ]
          },
          "metadata": {}
        }
      ],
      "source": [
        "student.submit_task(namespace=globals(), task_id='T4');"
      ]
    },
    {
      "cell_type": "markdown",
      "metadata": {
        "id": "WmfXgHHUR0Me"
      },
      "source": [
        "Vamos a dejar fijo el número de variables en 20 y variar los árboles en: [5,10,15,25, 50], completa el código para ver la gráfica"
      ]
    },
    {
      "cell_type": "code",
      "execution_count": null,
      "metadata": {
        "id": "DK2JdQAfR0Me"
      },
      "outputs": [],
      "source": [
        "resultados_rf_time1 = time_rf_gbt_training(x, y, [], [], metodo = 'rf')\n",
        "resultados_gbt_time1 = time_rf_gbt_training(x, y, [], [], metodo = 'gbt')\n",
        "\n",
        "resultados_time = pd.concat([resultados_rf_time1, resultados_gbt_time1], ignore_index=True)\n",
        "\n",
        "sns.relplot(data = resultados_time, x = 'numero de arboles', y = 'tiempo de entrenamiento', hue = 'metodo', kind = 'line')"
      ]
    },
    {
      "cell_type": "markdown",
      "metadata": {
        "id": "PKqJ85TUR0Mf"
      },
      "source": [
        "Y por ultimo vamos a dejar fijo el número de árboles en 20 y el número de varaibles [5,10,15,20,40], completa el código para ver la gráfica"
      ]
    },
    {
      "cell_type": "code",
      "execution_count": null,
      "metadata": {
        "id": "0mkj5sbRR0Mg"
      },
      "outputs": [],
      "source": [
        "resultados_rf_time1 = time_rf_gbt_training(x, y, [], [], metodo = 'rf')\n",
        "resultados_gbt_time1 = time_rf_gbt_training(x, y, [], [], metodo = 'gbt')\n",
        "\n",
        "resultados_time = pd.concat([resultados_rf_time1, resultados_gbt_time1], ignore_index=True)\n",
        "\n",
        "sns.relplot(data = resultados_time, x = 'variables para la seleccion del mejor umbral', y = 'tiempo de entrenamiento', hue = 'metodo', kind = 'line')"
      ]
    },
    {
      "cell_type": "code",
      "execution_count": null,
      "metadata": {
        "cellView": "form",
        "id": "2aJTJ4GVR0Mh"
      },
      "outputs": [],
      "source": [
        "#@title Pregunta Abierta\n",
        "#@markdown Cuál parámetro de los evaluados tiene una mayor influencia en los tiempos de entrenamiento? ¿Porqué?\n",
        "respuesta = \"\" #@param {type:\"string\"}"
      ]
    }
  ],
  "metadata": {
    "colab": {
      "provenance": []
    },
    "kernelspec": {
      "display_name": "Python 3 (ipykernel)",
      "language": "python",
      "name": "python3"
    },
    "language_info": {
      "codemirror_mode": {
        "name": "ipython",
        "version": 3
      },
      "file_extension": ".py",
      "mimetype": "text/x-python",
      "name": "python",
      "nbconvert_exporter": "python",
      "pygments_lexer": "ipython3",
      "version": "3.9.15"
    },
    "widgets": {
      "application/vnd.jupyter.widget-state+json": {
        "2f279ea12f704407a69eb083d738972e": {
          "model_module": "@jupyter-widgets/controls",
          "model_name": "HBoxModel",
          "model_module_version": "1.5.0",
          "state": {
            "_dom_classes": [],
            "_model_module": "@jupyter-widgets/controls",
            "_model_module_version": "1.5.0",
            "_model_name": "HBoxModel",
            "_view_count": null,
            "_view_module": "@jupyter-widgets/controls",
            "_view_module_version": "1.5.0",
            "_view_name": "HBoxView",
            "box_style": "",
            "children": [
              "IPY_MODEL_80f84b53acb34da090ad5db7b3259ff7",
              "IPY_MODEL_2d9df34b1c53429d886e38531a5aa3cf",
              "IPY_MODEL_8de7830014564eba90a6dcea6616b6ff",
              "IPY_MODEL_fdd9ced45b184fbeae65994a712dc137"
            ],
            "layout": "IPY_MODEL_742cb88dfeb24a62b8ed01e18288223a"
          }
        },
        "80f84b53acb34da090ad5db7b3259ff7": {
          "model_module": "@jupyter-widgets/controls",
          "model_name": "VBoxModel",
          "model_module_version": "1.5.0",
          "state": {
            "_dom_classes": [],
            "_model_module": "@jupyter-widgets/controls",
            "_model_module_version": "1.5.0",
            "_model_name": "VBoxModel",
            "_view_count": null,
            "_view_module": "@jupyter-widgets/controls",
            "_view_module_version": "1.5.0",
            "_view_name": "VBoxView",
            "box_style": "",
            "children": [
              "IPY_MODEL_371ffb1e186d408bb6351dbb313ed27d",
              "IPY_MODEL_2dc9d2cb22394109a71c34c8a9db2236"
            ],
            "layout": "IPY_MODEL_aabf63e4c7904e84bad249dfbe12dcfd"
          }
        },
        "2d9df34b1c53429d886e38531a5aa3cf": {
          "model_module": "@jupyter-widgets/controls",
          "model_name": "ButtonModel",
          "model_module_version": "1.5.0",
          "state": {
            "_dom_classes": [
              "login_button"
            ],
            "_model_module": "@jupyter-widgets/controls",
            "_model_module_version": "1.5.0",
            "_model_name": "ButtonModel",
            "_view_count": null,
            "_view_module": "@jupyter-widgets/controls",
            "_view_module_version": "1.5.0",
            "_view_name": "ButtonView",
            "button_style": "",
            "description": "Login with email",
            "disabled": false,
            "icon": "",
            "layout": "IPY_MODEL_709af831e144454f919707ebbf72c4bd",
            "style": "IPY_MODEL_af0d10b69a584ec2a9861f8745c5bdf0",
            "tooltip": ""
          }
        },
        "8de7830014564eba90a6dcea6616b6ff": {
          "model_module": "@jupyter-widgets/controls",
          "model_name": "HTMLModel",
          "model_module_version": "1.5.0",
          "state": {
            "_dom_classes": [],
            "_model_module": "@jupyter-widgets/controls",
            "_model_module_version": "1.5.0",
            "_model_name": "HTMLModel",
            "_view_count": null,
            "_view_module": "@jupyter-widgets/controls",
            "_view_module_version": "1.5.0",
            "_view_name": "HTMLView",
            "description": "",
            "description_tooltip": null,
            "layout": "IPY_MODEL_dd67e536a5414e7baae31e158aa46b65",
            "placeholder": "​",
            "style": "IPY_MODEL_87c5e8adb4b94f838ea95361b2ee2281",
            "value": "<center><big>or</big></center>"
          }
        },
        "fdd9ced45b184fbeae65994a712dc137": {
          "model_module": "@jupyter-widgets/controls",
          "model_name": "ButtonModel",
          "model_module_version": "1.5.0",
          "state": {
            "_dom_classes": [
              "google_button"
            ],
            "_model_module": "@jupyter-widgets/controls",
            "_model_module_version": "1.5.0",
            "_model_name": "ButtonModel",
            "_view_count": null,
            "_view_module": "@jupyter-widgets/controls",
            "_view_module_version": "1.5.0",
            "_view_name": "ButtonView",
            "button_style": "",
            "description": "Login with Google",
            "disabled": false,
            "icon": "",
            "layout": "IPY_MODEL_20ba5b011e8044afa6d3c7a46cfa0e96",
            "style": "IPY_MODEL_4f3ff1759ebf44db832aa4e9ea5132ff",
            "tooltip": ""
          }
        },
        "742cb88dfeb24a62b8ed01e18288223a": {
          "model_module": "@jupyter-widgets/base",
          "model_name": "LayoutModel",
          "model_module_version": "1.2.0",
          "state": {
            "_model_module": "@jupyter-widgets/base",
            "_model_module_version": "1.2.0",
            "_model_name": "LayoutModel",
            "_view_count": null,
            "_view_module": "@jupyter-widgets/base",
            "_view_module_version": "1.2.0",
            "_view_name": "LayoutView",
            "align_content": null,
            "align_items": null,
            "align_self": null,
            "border": null,
            "bottom": null,
            "display": null,
            "flex": null,
            "flex_flow": null,
            "grid_area": null,
            "grid_auto_columns": null,
            "grid_auto_flow": null,
            "grid_auto_rows": null,
            "grid_column": null,
            "grid_gap": null,
            "grid_row": null,
            "grid_template_areas": null,
            "grid_template_columns": null,
            "grid_template_rows": null,
            "height": null,
            "justify_content": null,
            "justify_items": null,
            "left": null,
            "margin": null,
            "max_height": null,
            "max_width": null,
            "min_height": null,
            "min_width": null,
            "object_fit": null,
            "object_position": null,
            "order": null,
            "overflow": null,
            "overflow_x": null,
            "overflow_y": null,
            "padding": null,
            "right": null,
            "top": null,
            "visibility": null,
            "width": null
          }
        },
        "371ffb1e186d408bb6351dbb313ed27d": {
          "model_module": "@jupyter-widgets/controls",
          "model_name": "TextModel",
          "model_module_version": "1.5.0",
          "state": {
            "_dom_classes": [],
            "_model_module": "@jupyter-widgets/controls",
            "_model_module_version": "1.5.0",
            "_model_name": "TextModel",
            "_view_count": null,
            "_view_module": "@jupyter-widgets/controls",
            "_view_module_version": "1.5.0",
            "_view_name": "TextView",
            "continuous_update": true,
            "description": "email",
            "description_tooltip": null,
            "disabled": false,
            "layout": "IPY_MODEL_7648d0b06166484da815e69a2129f134",
            "placeholder": "​",
            "style": "IPY_MODEL_951715a6feaf4573a4a7dc9e0c8e841c",
            "value": ""
          }
        },
        "2dc9d2cb22394109a71c34c8a9db2236": {
          "model_module": "@jupyter-widgets/controls",
          "model_name": "PasswordModel",
          "model_module_version": "1.5.0",
          "state": {
            "_dom_classes": [],
            "_model_module": "@jupyter-widgets/controls",
            "_model_module_version": "1.5.0",
            "_model_name": "PasswordModel",
            "_view_count": null,
            "_view_module": "@jupyter-widgets/controls",
            "_view_module_version": "1.5.0",
            "_view_name": "PasswordView",
            "continuous_update": true,
            "description": "password",
            "description_tooltip": null,
            "disabled": false,
            "layout": "IPY_MODEL_cf61b10096d2467ca2f905fee49f8394",
            "placeholder": "​",
            "style": "IPY_MODEL_9322a0095d0e4b52a5207237b6d25131",
            "value": ""
          }
        },
        "aabf63e4c7904e84bad249dfbe12dcfd": {
          "model_module": "@jupyter-widgets/base",
          "model_name": "LayoutModel",
          "model_module_version": "1.2.0",
          "state": {
            "_model_module": "@jupyter-widgets/base",
            "_model_module_version": "1.2.0",
            "_model_name": "LayoutModel",
            "_view_count": null,
            "_view_module": "@jupyter-widgets/base",
            "_view_module_version": "1.2.0",
            "_view_name": "LayoutView",
            "align_content": null,
            "align_items": null,
            "align_self": null,
            "border": null,
            "bottom": null,
            "display": null,
            "flex": null,
            "flex_flow": null,
            "grid_area": null,
            "grid_auto_columns": null,
            "grid_auto_flow": null,
            "grid_auto_rows": null,
            "grid_column": null,
            "grid_gap": null,
            "grid_row": null,
            "grid_template_areas": null,
            "grid_template_columns": null,
            "grid_template_rows": null,
            "height": null,
            "justify_content": null,
            "justify_items": null,
            "left": null,
            "margin": null,
            "max_height": null,
            "max_width": null,
            "min_height": null,
            "min_width": null,
            "object_fit": null,
            "object_position": null,
            "order": null,
            "overflow": null,
            "overflow_x": null,
            "overflow_y": null,
            "padding": null,
            "right": null,
            "top": null,
            "visibility": null,
            "width": null
          }
        },
        "709af831e144454f919707ebbf72c4bd": {
          "model_module": "@jupyter-widgets/base",
          "model_name": "LayoutModel",
          "model_module_version": "1.2.0",
          "state": {
            "_model_module": "@jupyter-widgets/base",
            "_model_module_version": "1.2.0",
            "_model_name": "LayoutModel",
            "_view_count": null,
            "_view_module": "@jupyter-widgets/base",
            "_view_module_version": "1.2.0",
            "_view_name": "LayoutView",
            "align_content": null,
            "align_items": null,
            "align_self": null,
            "border": null,
            "bottom": null,
            "display": null,
            "flex": null,
            "flex_flow": null,
            "grid_area": null,
            "grid_auto_columns": null,
            "grid_auto_flow": null,
            "grid_auto_rows": null,
            "grid_column": null,
            "grid_gap": null,
            "grid_row": null,
            "grid_template_areas": null,
            "grid_template_columns": null,
            "grid_template_rows": null,
            "height": "53px",
            "justify_content": null,
            "justify_items": null,
            "left": null,
            "margin": null,
            "max_height": null,
            "max_width": null,
            "min_height": null,
            "min_width": null,
            "object_fit": null,
            "object_position": null,
            "order": null,
            "overflow": null,
            "overflow_x": null,
            "overflow_y": null,
            "padding": null,
            "right": null,
            "top": null,
            "visibility": null,
            "width": "150px"
          }
        },
        "af0d10b69a584ec2a9861f8745c5bdf0": {
          "model_module": "@jupyter-widgets/controls",
          "model_name": "ButtonStyleModel",
          "model_module_version": "1.5.0",
          "state": {
            "_model_module": "@jupyter-widgets/controls",
            "_model_module_version": "1.5.0",
            "_model_name": "ButtonStyleModel",
            "_view_count": null,
            "_view_module": "@jupyter-widgets/base",
            "_view_module_version": "1.2.0",
            "_view_name": "StyleView",
            "button_color": null,
            "font_weight": ""
          }
        },
        "dd67e536a5414e7baae31e158aa46b65": {
          "model_module": "@jupyter-widgets/base",
          "model_name": "LayoutModel",
          "model_module_version": "1.2.0",
          "state": {
            "_model_module": "@jupyter-widgets/base",
            "_model_module_version": "1.2.0",
            "_model_name": "LayoutModel",
            "_view_count": null,
            "_view_module": "@jupyter-widgets/base",
            "_view_module_version": "1.2.0",
            "_view_name": "LayoutView",
            "align_content": null,
            "align_items": null,
            "align_self": null,
            "border": null,
            "bottom": null,
            "display": null,
            "flex": null,
            "flex_flow": null,
            "grid_area": null,
            "grid_auto_columns": null,
            "grid_auto_flow": null,
            "grid_auto_rows": null,
            "grid_column": null,
            "grid_gap": null,
            "grid_row": null,
            "grid_template_areas": null,
            "grid_template_columns": null,
            "grid_template_rows": null,
            "height": null,
            "justify_content": null,
            "justify_items": null,
            "left": null,
            "margin": null,
            "max_height": null,
            "max_width": null,
            "min_height": null,
            "min_width": null,
            "object_fit": null,
            "object_position": null,
            "order": null,
            "overflow": null,
            "overflow_x": null,
            "overflow_y": null,
            "padding": null,
            "right": null,
            "top": null,
            "visibility": null,
            "width": "100px"
          }
        },
        "87c5e8adb4b94f838ea95361b2ee2281": {
          "model_module": "@jupyter-widgets/controls",
          "model_name": "DescriptionStyleModel",
          "model_module_version": "1.5.0",
          "state": {
            "_model_module": "@jupyter-widgets/controls",
            "_model_module_version": "1.5.0",
            "_model_name": "DescriptionStyleModel",
            "_view_count": null,
            "_view_module": "@jupyter-widgets/base",
            "_view_module_version": "1.2.0",
            "_view_name": "StyleView",
            "description_width": ""
          }
        },
        "20ba5b011e8044afa6d3c7a46cfa0e96": {
          "model_module": "@jupyter-widgets/base",
          "model_name": "LayoutModel",
          "model_module_version": "1.2.0",
          "state": {
            "_model_module": "@jupyter-widgets/base",
            "_model_module_version": "1.2.0",
            "_model_name": "LayoutModel",
            "_view_count": null,
            "_view_module": "@jupyter-widgets/base",
            "_view_module_version": "1.2.0",
            "_view_name": "LayoutView",
            "align_content": null,
            "align_items": null,
            "align_self": null,
            "border": null,
            "bottom": null,
            "display": null,
            "flex": null,
            "flex_flow": null,
            "grid_area": null,
            "grid_auto_columns": null,
            "grid_auto_flow": null,
            "grid_auto_rows": null,
            "grid_column": null,
            "grid_gap": null,
            "grid_row": null,
            "grid_template_areas": null,
            "grid_template_columns": null,
            "grid_template_rows": null,
            "height": "53px",
            "justify_content": null,
            "justify_items": null,
            "left": null,
            "margin": null,
            "max_height": null,
            "max_width": null,
            "min_height": null,
            "min_width": null,
            "object_fit": null,
            "object_position": null,
            "order": null,
            "overflow": null,
            "overflow_x": null,
            "overflow_y": null,
            "padding": null,
            "right": null,
            "top": null,
            "visibility": null,
            "width": "200px"
          }
        },
        "4f3ff1759ebf44db832aa4e9ea5132ff": {
          "model_module": "@jupyter-widgets/controls",
          "model_name": "ButtonStyleModel",
          "model_module_version": "1.5.0",
          "state": {
            "_model_module": "@jupyter-widgets/controls",
            "_model_module_version": "1.5.0",
            "_model_name": "ButtonStyleModel",
            "_view_count": null,
            "_view_module": "@jupyter-widgets/base",
            "_view_module_version": "1.2.0",
            "_view_name": "StyleView",
            "button_color": null,
            "font_weight": ""
          }
        },
        "7648d0b06166484da815e69a2129f134": {
          "model_module": "@jupyter-widgets/base",
          "model_name": "LayoutModel",
          "model_module_version": "1.2.0",
          "state": {
            "_model_module": "@jupyter-widgets/base",
            "_model_module_version": "1.2.0",
            "_model_name": "LayoutModel",
            "_view_count": null,
            "_view_module": "@jupyter-widgets/base",
            "_view_module_version": "1.2.0",
            "_view_name": "LayoutView",
            "align_content": null,
            "align_items": null,
            "align_self": null,
            "border": null,
            "bottom": null,
            "display": null,
            "flex": null,
            "flex_flow": null,
            "grid_area": null,
            "grid_auto_columns": null,
            "grid_auto_flow": null,
            "grid_auto_rows": null,
            "grid_column": null,
            "grid_gap": null,
            "grid_row": null,
            "grid_template_areas": null,
            "grid_template_columns": null,
            "grid_template_rows": null,
            "height": "25px",
            "justify_content": null,
            "justify_items": null,
            "left": null,
            "margin": null,
            "max_height": null,
            "max_width": null,
            "min_height": null,
            "min_width": null,
            "object_fit": null,
            "object_position": null,
            "order": null,
            "overflow": null,
            "overflow_x": null,
            "overflow_y": null,
            "padding": null,
            "right": null,
            "top": null,
            "visibility": null,
            "width": "300px"
          }
        },
        "951715a6feaf4573a4a7dc9e0c8e841c": {
          "model_module": "@jupyter-widgets/controls",
          "model_name": "DescriptionStyleModel",
          "model_module_version": "1.5.0",
          "state": {
            "_model_module": "@jupyter-widgets/controls",
            "_model_module_version": "1.5.0",
            "_model_name": "DescriptionStyleModel",
            "_view_count": null,
            "_view_module": "@jupyter-widgets/base",
            "_view_module_version": "1.2.0",
            "_view_name": "StyleView",
            "description_width": ""
          }
        },
        "cf61b10096d2467ca2f905fee49f8394": {
          "model_module": "@jupyter-widgets/base",
          "model_name": "LayoutModel",
          "model_module_version": "1.2.0",
          "state": {
            "_model_module": "@jupyter-widgets/base",
            "_model_module_version": "1.2.0",
            "_model_name": "LayoutModel",
            "_view_count": null,
            "_view_module": "@jupyter-widgets/base",
            "_view_module_version": "1.2.0",
            "_view_name": "LayoutView",
            "align_content": null,
            "align_items": null,
            "align_self": null,
            "border": null,
            "bottom": null,
            "display": null,
            "flex": null,
            "flex_flow": null,
            "grid_area": null,
            "grid_auto_columns": null,
            "grid_auto_flow": null,
            "grid_auto_rows": null,
            "grid_column": null,
            "grid_gap": null,
            "grid_row": null,
            "grid_template_areas": null,
            "grid_template_columns": null,
            "grid_template_rows": null,
            "height": "24px",
            "justify_content": null,
            "justify_items": null,
            "left": null,
            "margin": null,
            "max_height": null,
            "max_width": null,
            "min_height": null,
            "min_width": null,
            "object_fit": null,
            "object_position": null,
            "order": null,
            "overflow": null,
            "overflow_x": null,
            "overflow_y": null,
            "padding": null,
            "right": null,
            "top": null,
            "visibility": null,
            "width": "300px"
          }
        },
        "9322a0095d0e4b52a5207237b6d25131": {
          "model_module": "@jupyter-widgets/controls",
          "model_name": "DescriptionStyleModel",
          "model_module_version": "1.5.0",
          "state": {
            "_model_module": "@jupyter-widgets/controls",
            "_model_module_version": "1.5.0",
            "_model_name": "DescriptionStyleModel",
            "_view_count": null,
            "_view_module": "@jupyter-widgets/base",
            "_view_module_version": "1.2.0",
            "_view_name": "StyleView",
            "description_width": ""
          }
        }
      }
    }
  },
  "nbformat": 4,
  "nbformat_minor": 0
}